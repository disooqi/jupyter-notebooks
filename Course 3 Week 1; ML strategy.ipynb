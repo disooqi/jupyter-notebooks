{
 "cells": [
  {
   "cell_type": "markdown",
   "metadata": {},
   "source": [
    "What options do we have to improve the performance of our model?\n",
    "-------------------------------------------------------------------------\n",
    "- Collect more data\n",
    "- Collect more diverse training set\n",
    "- Train algorithm longer with gradient descent \n",
    "- Try Adam instead of Gradient descent \n",
    "- Try bigger network\n",
    "- Try smaller network\n",
    "- Try dropout\n",
    "- Add $L_2$ regularization\n",
    "- Network architecture\n",
    "    - Activation functions\n",
    "    - \\# hidden units\n",
    "    - ..."
   ]
  },
  {
   "cell_type": "markdown",
   "metadata": {},
   "source": [
    "## Orthogonalization\n",
    "    \n",
    "A very important skill in developing deep learning is to know what to tune in order to achieve what effect; this process is called <span class=\"text-danger\">Orthogonalization</span>.\n",
    "\n",
    "Hermonic mean is calcluated as following:\n",
    "\n",
    "$$ \\frac{n}{\\Sigma\\frac{1}{c}} $$"
   ]
  },
  {
   "cell_type": "code",
   "execution_count": null,
   "metadata": {
    "collapsed": true
   },
   "outputs": [],
   "source": []
  }
 ],
 "metadata": {
  "kernelspec": {
   "display_name": "Python 3",
   "language": "python",
   "name": "python3"
  },
  "language_info": {
   "codemirror_mode": {
    "name": "ipython",
    "version": 3
   },
   "file_extension": ".py",
   "mimetype": "text/x-python",
   "name": "python",
   "nbconvert_exporter": "python",
   "pygments_lexer": "ipython3",
   "version": "3.6.2"
  }
 },
 "nbformat": 4,
 "nbformat_minor": 2
}
