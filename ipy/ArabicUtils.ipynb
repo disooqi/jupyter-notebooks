{
 "cells": [
  {
   "cell_type": "code",
   "execution_count": 104,
   "metadata": {
    "collapsed": false
   },
   "outputs": [],
   "source": [
    "import re\n",
    "import codecs\n"
   ]
  },
  {
   "cell_type": "code",
   "execution_count": 109,
   "metadata": {
    "collapsed": false
   },
   "outputs": [],
   "source": [
    "# ALL Arabic letters \\U0621-\\U063A\\U0641-\\U064A\n",
    "AllArabicLetters = \"\\u0621\\u0622\\u0623\\u0624\\u0625\\u0626\\u0627\\u0628\\u0629\\u062A\\u062B\\u062C\\u062D\\u062E\\u062F\"\\\n",
    "            + \"\\u0630\\u0631\\u0632\\u0633\\u0634\\u0635\\u0636\\u0637\\u0638\\u0639\\u063A\\u0641\\u0642\\u0643\\u0644\\u0645\\u0646\\u0647\\u0648\\u0649\\u064A\"\n",
    "\n",
    "# ALL Hindi digits \\U0660-\\U0669\n",
    "AllHindiDigits = \"\\u0660\\u0661\\u0662\\u0663\\u0664\\u0665\\u0666\\u0667\\u0668\\u0669\"\n",
    "\n",
    "# ALL Arabic letters and Hindi digits \\U0621-\\U063A\\U0641-\\U064A\\U0660-\\U0669\n",
    "AllArabicLettersAndHindiDigits = \"\\u0621\\u0622\\u0623\\u0624\\u0625\\u0626\\u0627\\u0628\\u0629\\u062A\\u062B\\u062C\\u062D\\u062E\\u062F\"\\\n",
    "            + \"\\u0630\\u0631\\u0632\\u0633\\u0634\\u0635\\u0636\\u0637\\u0638\\u0639\\u063A\\u0641\\u0642\\u0643\\u0644\\u0645\\u0646\\u0647\\u0648\\u0649\\u064A\\u0660\\u0661\\u0662\\u0663\\u0664\\u0665\\u0666\\u0667\\u0668\\u0669\"\n",
    "\n",
    "\n",
    "AllDigits = \"0123456789\"\n",
    "ALLDelimiters = \"\\u0020\\u0000-\\u002F\\u003A-\\u0040\\u007B-\\u00BB\\u005B-\\u005D\\u005F-\\u0060\\\\^\\u0600-\\u060C\\u06D4-\\u06ED\\ufeff\"\n",
    "\n",
    "ArabicStopWords = list()\n",
    "\n",
    "ALEF = '\\u0627'\n",
    "ALEF_MADDA = '\\u0622'\n",
    "ALEF_HAMZA_ABOVE = '\\u0623'\n",
    "ALEF_HAMZA_BELOW = '\\u0625'\n",
    "\n",
    "HAMZA = '\\u0621'\n",
    "HAMZA_ON_NABRA = '\\u0624'\n",
    "HAMZA_ON_WAW = '\\u0626'\n",
    "\n",
    "YEH = '\\u064A'\n",
    "DOTLESS_YEH = '\\u0649'\n",
    "\n",
    "TEH_MARBUTA = '\\u0629'\n",
    "HEH = '\\u0647'\n",
    "\n",
    "\n",
    "\n",
    "ar = \"\\u0627\\u0625\\u0622\\u0623\\u0621\\u0628\\u062a\\u062b\\u062c\\u062d\\u062e\\u062f\\u0630\\u0631\\u0632\\u0633\\u0634\\u0635\\u0636\\u0637\\u0638\\u0639\\u063a\\u0641\\u0642\\u0643\\u0644\\u0645\\u0646\\u0647\\u0648\\u064a\\u0649\\u0629\\u0624\\u0626\\u064e\\u064b\\u064f\\u064c\\u0650\\u064d\\u0652\\u0651\"\n",
    "buck = \"A<|>'btvjHxd*rzs$SDTZEgfqklmnhwyYp&}aFuNiKo~\"\n",
    "b2a_translation_table = str.maketrans(buck, ar)\n",
    "a2b_translation_table = str.maketrans(ar, buck)"
   ]
  },
  {
   "cell_type": "code",
   "execution_count": 184,
   "metadata": {
    "collapsed": true
   },
   "outputs": [],
   "source": [
    "emailRegex = re.compile(\"[a-zA-Z0-9\\\\-\\\\._]+@[a-zA-Z0-9\\\\-\\\\._]+$\")\n",
    "pAllDiacritics = re.compile(\"[\\u0640\\u064b\\u064c\\u064d\\u064e\\u064f\\u0650\\u0651\\u0652\\u0670]\")\n",
    "pAllNonCharacters = re.compile(\"[\\u0020\\u2000-\\u200F\\u2028-\\u202F\\u205F-\\u206F\\uFEFF]+\")\n",
    "pAllDelimiters = re.compile(\"[\" + ALLDelimiters + \"]+\")"
   ]
  },
  {
   "cell_type": "code",
   "execution_count": 18,
   "metadata": {
    "collapsed": true
   },
   "outputs": [],
   "source": [
    "#\"ال\", \"و\", \"ف\", \"ب\", \"ك\", \"ل\", \"لل\"\n",
    "prefixes = [\"\\u0627\\u0644\", \"\\u0648\", \"\\u0641\", \"\\u0628\", \"\\u0643\", \"\\u0644\", \"\\u0644\\u0644\", \"س\"]\n",
    "\n",
    "# \"ه\", \"ها\", \"ك\", \"ي\", \"هما\", \"كما\", \"نا\", \"كم\", \"هم\", \"هن\", \"كن\", \"ا\", \"ان\", \"ين\", \"ون\", \"وا\", \"ات\", \"ت\", \"ن\", \"ة\"\n",
    "suffixes = [\n",
    "        \"\\u0647\", \"\\u0647\\u0627\", \"\\u0643\", \"\\u064a\", \"\\u0647\\u0645\\u0627\", \"\\u0643\\u0645\\u0627\", \"\\u0646\\u0627\", \"\\u0643\\u0645\", \"\\u0647\\u0645\", \"\\u0647\\u0646\", \"\\u0643\\u0646\",\n",
    "        \"\\u0627\", \"\\u0627\\u0646\", \"\\u064a\\u0646\", \"\\u0648\\u0646\", \"\\u0648\\u0627\", \"\\u0627\\u062a\", \"\\u062a\", \"\\u0646\", \"\\u0629\"]"
   ]
  },
  {
   "cell_type": "code",
   "execution_count": 19,
   "metadata": {
    "collapsed": true
   },
   "outputs": [],
   "source": [
    "ArabicStopWords = [\"و\", \"ما\", \"هي\", \"هو\", \"هم\", \"هما\", \"هن\", \"هذا\", \"هذه\", \"هذان\", \"هؤلاء\", \"هل\", \"في\", \"هنا\", \"هناك\", \"مع\", \"من\", \"علي\", \"كيف\", \"كان\"]\n"
   ]
  },
  {
   "cell_type": "code",
   "execution_count": null,
   "metadata": {
    "collapsed": true
   },
   "outputs": [],
   "source": [
    "re"
   ]
  },
  {
   "cell_type": "code",
   "execution_count": 25,
   "metadata": {
    "collapsed": false
   },
   "outputs": [],
   "source": [
    "def buck2morph(kdinput):\n",
    "    #buck = \"$Y\\'|&}*<>&}\"\n",
    "    #morph = \"PyAAAAOAAAA\"\n",
    "    #kdinput = kdinput.replace(buck, morph);\n",
    "    kdinput = kdinput.replace('$', 'P').replace('Y', 'y').replace('\\'', 'A').replace('|', 'A').replace('&', 'A').replace('}', 'A').replace('*', 'O');\n",
    "    kdinput = kdinput.replace(\"<\", \"A\").replace(\">\", \"A\").replace(\"&\", \"A\").replace(\"'\", \"A\").replace(\"}\", \"A\");\n",
    "    return kdinput;\n",
    "\n",
    "# buck = \"$Y\\'|&}*<>&}\"\n",
    "# morph = \"PyAAAAOAAAA\"\n",
    "# morph == buck2morph(buck)"
   ]
  },
  {
   "cell_type": "code",
   "execution_count": 112,
   "metadata": {
    "collapsed": false
   },
   "outputs": [
    {
     "data": {
      "text/plain": [
       "True"
      ]
     },
     "execution_count": 112,
     "metadata": {},
     "output_type": "execute_result"
    }
   ],
   "source": [
    "def utf82buck(kdinput):\n",
    "    return kdinput.translate(a2b_translation_table)\n",
    "\n",
    "# unit test\n",
    "ar = \"\\u0627\\u0625\\u0622\\u0623\\u0621\\u0628\\u062a\\u062b\\u062c\\u062d\\u062e\\u062f\\u0630\\u0631\\u0632\\u0633\\u0634\\u0635\\u0636\\u0637\\u0638\\u0639\\u063a\\u0641\\u0642\\u0643\\u0644\\u0645\\u0646\\u0647\\u0648\\u064a\\u0649\\u0629\\u0624\\u0626\\u064e\\u064b\\u064f\\u064c\\u0650\\u064d\\u0652\\u0651\"\n",
    "buck = \"A<|>'btvjHxd*rzs$SDTZEgfqklmnhwyYp&}aFuNiKo~\"\n",
    "buck == utf82buck(ar)"
   ]
  },
  {
   "cell_type": "code",
   "execution_count": 182,
   "metadata": {
    "collapsed": true
   },
   "outputs": [],
   "source": [
    "def utf82buckWithoutDiacritics(kdinput):\n",
    "    kdinput = kdinput.replace(\"\\u0627\", \"A\").replace(\"\\u0625\", \"<\").replace(\"\\u0622\", \"|\").replace(\"\\u0623\", \">\").replace(\"\\u0621\", \"'\")\n",
    "    kdinput = kdinput.replace(\"\\u0628\", \"b\").replace(\"\\u062a\", \"t\").replace(\"\\u062b\", \"v\").replace(\"\\u062c\", \"j\").replace(\"\\u062d\", \"H\")\n",
    "    kdinput = kdinput.replace(\"\\u062e\", \"x\").replace(\"\\u062f\", \"d\").replace(\"\\u0630\", \"*\").replace(\"\\u0631\", \"r\").replace(\"\\u0632\", \"z\")\n",
    "    kdinput = kdinput.replace(\"\\u0633\", \"s\").replace(\"\\u0634\", \"$\").replace(\"\\u0635\", \"S\").replace(\"\\u0636\", \"D\").replace(\"\\u0637\", \"T\")\n",
    "    kdinput = kdinput.replace(\"\\u0638\", \"Z\").replace(\"\\u0639\", \"E\").replace(\"\\u063a\", \"g\").replace(\"\\u0641\", \"f\").replace(\"\\u0642\", \"q\")\n",
    "    kdinput = kdinput.replace(\"\\u0643\", \"k\").replace(\"\\u0644\", \"l\").replace(\"\\u0645\", \"m\").replace(\"\\u0646\", \"n\").replace(\"\\u0647\", \"h\")\n",
    "    kdinput = kdinput.replace(\"\\u0648\", \"w\").replace(\"\\u064a\", \"y\").replace(\"\\u0649\", \"Y\").replace(\"\\u0629\", \"p\").replace(\"\\u0624\", \"&\")\n",
    "    kdinput = kdinput.replace(\"\\u0626\", \"}\")\n",
    "\n",
    "    return kdinput"
   ]
  },
  {
   "cell_type": "code",
   "execution_count": 115,
   "metadata": {
    "collapsed": false
   },
   "outputs": [
    {
     "data": {
      "text/plain": [
       "True"
      ]
     },
     "execution_count": 115,
     "metadata": {},
     "output_type": "execute_result"
    }
   ],
   "source": [
    "def buck2utf8(kdinput):    \n",
    "    return kdinput.translate(b2a_translation_table)\n",
    "\n",
    "ar = \"\\u0627\\u0625\\u0622\\u0623\\u0621\\u0628\\u062a\\u062b\\u062c\\u062d\\u062e\\u062f\\u0630\\u0631\\u0632\\u0633\\u0634\\u0635\\u0636\\u0637\\u0638\\u0639\\u063a\\u0641\\u0642\\u0643\\u0644\\u0645\\u0646\\u0647\\u0648\\u064a\\u0649\\u0629\\u0624\\u0626\\u064e\\u064b\\u064f\\u064c\\u0650\\u064d\\u0652\\u0651\"\n",
    "buck = \"A<|>'btvjHxd*rzs$SDTZEgfqklmnhwyYp&}aFuNiKo~\"\n",
    "\n",
    "ar == buck2utf8(buck)"
   ]
  },
  {
   "cell_type": "code",
   "execution_count": 67,
   "metadata": {
    "collapsed": true
   },
   "outputs": [],
   "source": [
    "def buck2utf8WithoutDiacritics(kdinput):\n",
    "    kdinput = kdinput.replace(\"A\", \"\\u0627\").replace(\"<\", \"\\u0625\").replace(\"|\", \"\\u0622\").replace(\">\", \"\\u0623\").replace(\"'\", \"\\u0621\");\n",
    "    kdinput = kdinput.replace(\"b\", \"\\u0628\").replace(\"t\", \"\\u062a\").replace(\"v\", \"\\u062b\").replace(\"j\", \"\\u062c\").replace(\"H\", \"\\u062d\");\n",
    "    kdinput = kdinput.replace(\"x\", \"\\u062e\").replace(\"d\", \"\\u062f\").replace(\"*\", \"\\u0630\").replace(\"r\", \"\\u0631\").replace(\"z\", \"\\u0632\");\n",
    "    kdinput = kdinput.replace(\"s\", \"\\u0633\").replace(\"$\", \"\\u0634\").replace(\"S\", \"\\u0635\").replace(\"D\", \"\\u0636\").replace(\"T\", \"\\u0637\");\n",
    "    kdinput = kdinput.replace(\"Z\", \"\\u0638\").replace(\"E\", \"\\u0639\").replace(\"g\", \"\\u063a\").replace(\"f\", \"\\u0641\").replace(\"q\", \"\\u0642\");\n",
    "    kdinput = kdinput.replace(\"k\", \"\\u0643\").replace(\"l\", \"\\u0644\").replace(\"m\", \"\\u0645\").replace(\"n\", \"\\u0646\").replace(\"h\", \"\\u0647\");\n",
    "    kdinput = kdinput.replace(\"w\", \"\\u0648\").replace(\"y\", \"\\u064a\").replace(\"Y\", \"\\u0649\").replace(\"p\", \"\\u0629\").replace(\"&\", \"\\u0624\");\n",
    "    kdinput = kdinput.replace(\"}\", \"\\u0626\")\n",
    "    return kdinput"
   ]
  },
  {
   "cell_type": "code",
   "execution_count": 150,
   "metadata": {
    "collapsed": true
   },
   "outputs": [],
   "source": [
    "def normalize(kdinput):\n",
    "    return kdinput"
   ]
  },
  {
   "cell_type": "code",
   "execution_count": 173,
   "metadata": {
    "collapsed": false
   },
   "outputs": [
    {
     "data": {
      "text/plain": [
       "['بسم', 'الله', 'الرحمن', 'الرحيم']"
      ]
     },
     "execution_count": 173,
     "metadata": {},
     "output_type": "execute_result"
    }
   ],
   "source": [
    "def tokenizeText(kdinput):\n",
    "    charInput = list(kdinput)\n",
    "    kdinput = \"\"\n",
    "    for i, ci in enumerate(charInput):\n",
    "        c = ord(ci)\n",
    "        if c <= 32 or c==127 or 194128 <= c <= 194160:\n",
    "            kdinput += \" \"\n",
    "        else:\n",
    "            kdinput += ci\n",
    "    \n",
    "    zeroWidth_pattern = re.compile(\"[\\u200B\\ufeff]+\")\n",
    "    kdinput = zeroWidth_pattern.sub(\" \", kdinput)\n",
    "    kdinput = kdinput.replace('\\u0000\\u0000\\u0000\\u0000', '')\n",
    "    \n",
    "    output = list()    \n",
    "    word_split_pattern = re.compile(\"[\\\\\\u061f \\t\\n\\r,\\\\-<>\\\"\\\\?\\\\:;\\\\&]+\")\n",
    "    words = word_split_pattern.split(kdinput)\n",
    "    p = re.compile(\"[a-zA-Z0-9\\\\-\\\\._]+@[a-zA-Z0-9\\\\-\\\\._]+$\")\n",
    "    for i, word in enumerate(words[:]):\n",
    "        if word.startswith((\"#\", \"@\", \";\", \"http://\")) or p.match(word): # words[i].matches(\"[a-zA-Z0-9\\\\-\\\\._]+@[a-zA-Z0-9\\\\-\\\\._]+\")\n",
    "            if word.endswith(\":\", \"\\'\"):\n",
    "                words[i] = word[:-1]\n",
    "            \n",
    "            output.append(normalize(word.strip()))\n",
    "        else:\n",
    "            tmp = pAllDelimiters.split(word)\n",
    "            for j, word_part in enumerate(tmp[:]):\n",
    "                tmp[j] = word_part.lstrip(\"\\'\").rstrip(\":\\\"'\").strip()\n",
    "                if tmp[j]:\n",
    "                    output.append(normalize(tmp[j]))\n",
    "                    \n",
    "    return output\n",
    "\n",
    "tokenizeText(\"بسم الله الرحمن الرحيم\")"
   ]
  },
  {
   "cell_type": "code",
   "execution_count": 160,
   "metadata": {
    "collapsed": true
   },
   "outputs": [],
   "source": [
    "def removeNonCharacters(s):\n",
    "    return pAllNonCharacters.sub(' ', s)"
   ]
  },
  {
   "cell_type": "code",
   "execution_count": 161,
   "metadata": {
    "collapsed": true
   },
   "outputs": [],
   "source": [
    "def removeDiacritics(s):\n",
    "    return pAllDiacritics.sub('', s)"
   ]
  },
  {
   "cell_type": "code",
   "execution_count": 188,
   "metadata": {
    "collapsed": false
   },
   "outputs": [
    {
     "ename": "SyntaxError",
     "evalue": "invalid syntax (<ipython-input-188-a2ab5035bc19>, line 16)",
     "output_type": "error",
     "traceback": [
      "\u001b[1;36m  File \u001b[1;32m\"<ipython-input-188-a2ab5035bc19>\"\u001b[1;36m, line \u001b[1;32m16\u001b[0m\n\u001b[1;33m    elif s[i,i+1] not in AllArabicLettersAndHindiDigits + \"\\u0640\\u064b\\u064c\\u064d\\u064e\\u064f\\u0650\\u0651\\u0652\\u0670\"\u001b[0m\n\u001b[1;37m                                                                                                                         ^\u001b[0m\n\u001b[1;31mSyntaxError\u001b[0m\u001b[1;31m:\u001b[0m invalid syntax\n"
     ]
    }
   ],
   "source": [
    "def charBasedTonkenizer(s):\n",
    "    sFinal = \"\"\n",
    "    for i, ch in enumerate(s):\n",
    "        if pAllDelimiters.match(s[i:i+1]):\n",
    "            sFinal += ' ' + s[i:i+1] + ' '\n",
    "            \n",
    "        elif s[i,i+1] == \".\" or s[i,i+1] == \",\" or s[i,i+1] == \".\":\n",
    "            if i == 0:\n",
    "                sFinal += s[i,i+1] + \" \"\n",
    "            elif i == len(s) - 1:\n",
    "                sFinal += \" \" + s[i,i+1]\n",
    "            elif s[i-1, i] in AllDigits and s[i+1,i+2] in AllDigits:\n",
    "                sFinal += s[i, i+1]\n",
    "            else:\n",
    "                sFinal += \" \"+s[i,i+1]+\" \"\n",
    "        elif s[i,i+1] not in AllArabicLettersAndHindiDigits + \"\\u0640\\u064b\\u064c\\u064d\\u064e\\u064f\\u0650\\u0651\\u0652\\u0670\" \n",
    "                    + \"abcdefghijklmnopqrstuvwxyzABCDEFGHIJKLMNOPQRSTUVWXYZ0123456789ÀÁÂÃÄÅÆÇÈÉËÌÍÎÏÐÑÒÓÔÕÖØÙÚÛÜÝÞßàáâãäåæçèéêëìíîïðñòóôõöøùúûüýþÿ\" :\n",
    "            sFinal += \" \" + s[i,i+1]+\" \";\n",
    "        else:\n",
    "            pass\n",
    "            \n",
    "        \n",
    "\n",
    "\n",
    "    private static String charBasedTonkenizer(String s) {\n",
    "#        String[] seperator = {\"~\", \"»\", \"«\", \"؛\", \"<\", \">\", \"_\", \"\\\"\", \"-\", \"،\", \"!\", \"#\", \"?\", \"^\", \"&\", \"*\", \"(\", \")\", \"[\", \"]\", \"{\", \"}\", \"|\", \"\\\\\", \"-\", \"<\", \">\", \"\\\"\", \"?\", \"،\", \"؟\", \";\", \":\"};\n",
    "#        ArrayList<String> seperatorList = new ArrayList<String>();\n",
    "#        for (String ss : seperator) {\n",
    "#            seperatorList.add(ss);\n",
    "#        }\n",
    "\n",
    "        String sFinal = \"\";\n",
    "       \n",
    "        for (int i = 0; i < s.length(); i++) {\n",
    "            # if (seperatorList.contains(s.substring(i, i + 1))) {\n",
    "            #if (s.substring(i, i + 1).matches(\"[\" + ArabicUtils.ALLDelimiters + \"]\")) {\n",
    "            # if (ArabicUtils.ALLDelimiters.contains(s.substring(i, i + 1))) {    \n",
    "            if (pAllDelimiters.matcher(s.substring(i, i + 1)).matches())\n",
    "            {\n",
    "                sFinal += \" \" + s.substring(i, i + 1) + \" \";\n",
    "            } else if (s.substring(i, i + 1) == \".\" || s.substring(i, i + 1) == \",\" || s.substring(i, i + 1) == \".\") {\n",
    "                if (i == 0) {\n",
    "                    sFinal += s.substring(i, i + 1) + \" \";\n",
    "                } else if (i == s.length() - 1) {\n",
    "                    sFinal += \" \" + s.substring(i, i + 1);\n",
    "                # } else if (s.substring(i - 1, i).matches(\"[0-9]\") && s.substring(i + 1, i + 2).matches(\"[0-9]\")) {\n",
    "                } else if (AllDigits.contains(s.substring(i - 1, i)) && AllDigits.contains(s.substring(i + 1, i + 2))) {\n",
    "                    sFinal += s.substring(i, i + 1);\n",
    "                } else {\n",
    "                    sFinal += \" \" + s.substring(i, i + 1) + \" \";\n",
    "                }\n",
    "            # } else if (!s.substring(i, i + 1).matches(\"[\" + ArabicUtils.AllArabicLettersAndHindiDigits + \"\\u0640\\u064b\\u064c\\u064d\\u064e\\u064f\\u0650\\u0651\\u0652\\u0670\" + \"a-zA-Z0-9]\")) {\n",
    "            } else if (!(ArabicUtils.AllArabicLettersAndHindiDigits + \"\\u0640\\u064b\\u064c\\u064d\\u064e\\u064f\\u0650\\u0651\\u0652\\u0670\" \n",
    "                    + \"abcdefghijklmnopqrstuvwxyzABCDEFGHIJKLMNOPQRSTUVWXYZ0123456789ÀÁÂÃÄÅÆÇÈÉËÌÍÎÏÐÑÒÓÔÕÖØÙÚÛÜÝÞßàáâãäåæçèéêëìíîïðñòóôõöøùúûüýþÿ\").contains(s.substring(i, i + 1))) {\n",
    "                sFinal += \" \" + s.substring(i, i + 1) + \" \";\n",
    "                # sFinal += s.substring(i, i + 1);\n",
    "            } else {\n",
    "                if (i == 0) {\n",
    "                    sFinal += s.substring(i, i + 1);\n",
    "                } else {\n",
    "                    # if ((s.substring(i, i + 1).matches(\"[0-9]\") && s.substring(i - 1, i).matches(\"[\" + ArabicUtils.AllArabicLetters + \"]\"))\n",
    "                    #        || (s.substring(i - 1, i).matches(\"[0-9]\") && s.substring(i, i + 1).matches(\"[\" + ArabicUtils.AllArabicLetters + \"]\"))) {\n",
    "                    if (\n",
    "                            (\n",
    "                            AllDigits.contains(s.substring(i, i + 1)) \n",
    "                            && AllArabicLetters.contains(s.substring(i - 1, i))\n",
    "                            )\n",
    "                            || \n",
    "                            (\n",
    "                            AllDigits.contains(s.substring(i - 1, i)) \n",
    "                            && \n",
    "                            AllArabicLetters.contains(s.substring(i, i + 1)))\n",
    "                            ) {\n",
    "                        sFinal += \" \" + s.substring(i, i + 1);\n",
    "                    } else {\n",
    "                        sFinal += s.substring(i, i + 1);\n",
    "                    }\n",
    "\n",
    "                }\n",
    "            }\n",
    "        }\n",
    "        return sFinal;\n",
    "    }"
   ]
  },
  {
   "cell_type": "code",
   "execution_count": 180,
   "metadata": {
    "collapsed": false
   },
   "outputs": [
    {
     "data": {
      "text/plain": [
       "['بسم', 'الله', 'الرحمن', 'الرحيم']"
      ]
     },
     "execution_count": 180,
     "metadata": {},
     "output_type": "execute_result"
    }
   ],
   "source": [
    "def tokenize(text):\n",
    "    s = removeNonCharacters(text)\n",
    "    s = removeDiacritics(s)\n",
    "    \n",
    "    tnr_pattern = re.compile('[\\t\\n\\r]')\n",
    "    s = tnr_pattern.sub(' ', s)\n",
    "    output = list()\n",
    "    words = s.split()\n",
    "    \n",
    "    for i, word in enumerate(words):\n",
    "        if word.startswith((\"#\", \"@\", \":\", \";\", \"http://\")) or emailRegex.match(word):\n",
    "            output.append(word)\n",
    "        else:\n",
    "            for ss in charBasedTonkenizer(word).split():\n",
    "                if len(ss.strip())>0:\n",
    "                    if ss.startswith('لل'):\n",
    "                        output.append(\"لال\"+ss[2:])\n",
    "                    else:\n",
    "                        if len(ss.strip()) > 0:\n",
    "                            output.append(ss)\n",
    "    return output\n",
    "    \n",
    "tokenize('بسم الله الرحمن الرحيم')"
   ]
  },
  {
   "cell_type": "code",
   "execution_count": 87,
   "metadata": {
    "collapsed": false
   },
   "outputs": [
    {
     "name": "stdout",
     "output_type": "stream",
     "text": [
      "0\n"
     ]
    },
    {
     "data": {
      "text/plain": [
       "'\\x00'"
      ]
     },
     "execution_count": 87,
     "metadata": {},
     "output_type": "execute_result"
    }
   ],
   "source": [
    "print(ord('\\u0000'))\n",
    "chr(0)"
   ]
  },
  {
   "cell_type": "code",
   "execution_count": 147,
   "metadata": {
    "collapsed": false
   },
   "outputs": [
    {
     "name": "stdout",
     "output_type": "stream",
     "text": [
      "False\n"
     ]
    },
    {
     "data": {
      "text/plain": [
       "True"
      ]
     },
     "execution_count": 147,
     "metadata": {},
     "output_type": "execute_result"
    }
   ],
   "source": [
    "if '':\n",
    "    print(True)\n",
    "else:\n",
    "    print(False)\n",
    "\n",
    "bool(' '.strip()) == False"
   ]
  }
 ],
 "metadata": {
  "kernelspec": {
   "display_name": "Python 3",
   "language": "python",
   "name": "python3"
  },
  "language_info": {
   "codemirror_mode": {
    "name": "ipython",
    "version": 3
   },
   "file_extension": ".py",
   "mimetype": "text/x-python",
   "name": "python",
   "nbconvert_exporter": "python",
   "pygments_lexer": "ipython3",
   "version": "3.5.1"
  }
 },
 "nbformat": 4,
 "nbformat_minor": 0
}
