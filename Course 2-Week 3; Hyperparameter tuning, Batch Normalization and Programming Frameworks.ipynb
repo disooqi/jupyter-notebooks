{
 "cells": [
  {
   "cell_type": "markdown",
   "metadata": {},
   "source": [
    "Hyperparameter Tuning\n",
    "============\n",
    "\n",
    "- The learning rate, $\\alpha$, is most important hyperparameter for the most applications.\n",
    "- The momentum term $\\beta$, the number of hidden units, and the mini-batch size are considered the second important hyperparameters.\n",
    "\n",
    "#### How to select the hyperparameters?\n",
    "- In deep learning, as the number of the hyperparameters tends to be large comparing to traditional machine learning algms choose the hyperparameter in random; don't use grid to choose them.\n",
    "- Another reason to choose the hyperparameter in random is that you don't know which hyperparameters are important than others for your application.\n",
    "- A good practice when you sampling a hyperparameter is to follow Coarse to fine sampling scheme (or search process)\n"
   ]
  },
  {
   "cell_type": "code",
   "execution_count": null,
   "metadata": {
    "collapsed": true
   },
   "outputs": [],
   "source": []
  }
 ],
 "metadata": {
  "kernelspec": {
   "display_name": "Python 3",
   "language": "python",
   "name": "python3"
  },
  "language_info": {
   "codemirror_mode": {
    "name": "ipython",
    "version": 3
   },
   "file_extension": ".py",
   "mimetype": "text/x-python",
   "name": "python",
   "nbconvert_exporter": "python",
   "pygments_lexer": "ipython3",
   "version": "3.6.2"
  }
 },
 "nbformat": 4,
 "nbformat_minor": 2
}
