{
 "cells": [
  {
   "cell_type": "code",
   "execution_count": 3,
   "metadata": {
    "collapsed": true
   },
   "outputs": [],
   "source": [
    "import numpy as np\n",
    "import tensorflow as tf"
   ]
  },
  {
   "cell_type": "code",
   "execution_count": 16,
   "metadata": {},
   "outputs": [
    {
     "data": {
      "text/plain": [
       "0.0"
      ]
     },
     "execution_count": 16,
     "metadata": {},
     "output_type": "execute_result"
    }
   ],
   "source": [
    "w = tf.Variable(0, dtype=tf.float32)\n",
    "\n",
    "# cost = tf.add(w**2, tf.add(tf.multiply(-10., w), 25))\n",
    "cost = w**2 - 10 * w + 25   # more readable syntax\n",
    "train = tf.train.GradientDescentOptimizer(learning_rate=0.01).minimize(cost)\n",
    "\n",
    "init = tf.global_variables_initializer()\n",
    "session = tf.Session()\n",
    "session.run(init)\n",
    "\n",
    "# for TensorFlow to evaluative a variable, we're going to use \n",
    "session.run(w)"
   ]
  },
  {
   "cell_type": "code",
   "execution_count": 17,
   "metadata": {},
   "outputs": [
    {
     "name": "stdout",
     "output_type": "stream",
     "text": [
      "0.1\n"
     ]
    }
   ],
   "source": [
    "# to run one step of gradient descent\n",
    "session.run(train)\n",
    "print(session.run(w))"
   ]
  },
  {
   "cell_type": "code",
   "execution_count": 19,
   "metadata": {},
   "outputs": [
    {
     "name": "stdout",
     "output_type": "stream",
     "text": [
      "4.99999\n"
     ]
    }
   ],
   "source": [
    "for i in range(1000):\n",
    "    session.run(train)\n",
    "print(session.run(w))"
   ]
  },
  {
   "cell_type": "markdown",
   "metadata": {},
   "source": [
    "### In case X is variable"
   ]
  },
  {
   "cell_type": "code",
   "execution_count": 47,
   "metadata": {},
   "outputs": [
    {
     "name": "stdout",
     "output_type": "stream",
     "text": [
      "Value of w @ initialization: 0.0\n",
      "Value of w after one step of gradient descent: 0.10\n",
      "Value of w after 1000 step of gradient descent: 5.00\n"
     ]
    }
   ],
   "source": [
    "coefficients = np.array([[1.], [-10.], [25.]])\n",
    "\n",
    "w = tf.Variable(0, dtype=tf.float32)\n",
    "x = tf.placeholder(tf.float32, [3,1])\n",
    "# cost = tf.add(w**2, tf.add(tf.multiply(-10., w), 25))\n",
    "cost = x[0][0]* w**2 + x[1][0]*w + x[2][0]   # more readable syntax\n",
    "\n",
    "train = tf.train.GradientDescentOptimizer(learning_rate=0.01).minimize(cost)\n",
    "\n",
    "# init = tf.global_variables_initializer()\n",
    "# session = tf.Session()\n",
    "# session.run(init)\n",
    "with tf.Session() as session:\n",
    "    init = tf.global_variables_initializer()\n",
    "    session.run(init)\n",
    "    # for TensorFlow to evaluative a variable, we're going to use \n",
    "    print('Value of w @ initialization: {}'.format(session.run(w)))\n",
    "    # one step of gradient descent\n",
    "    session.run(train, feed_dict={x:coefficients})\n",
    "    print('Value of w after one step of gradient descent: {0:0.2f}'.format(session.run(w)))\n",
    "    # 1000 steps of GD\n",
    "    for i in range(1000):\n",
    "        session.run(train, feed_dict={x:coefficients})\n",
    "    print('Value of w after 1000 step of gradient descent: {0:0.2f}'.format(session.run(w)))\n",
    "    "
   ]
  },
  {
   "cell_type": "code",
   "execution_count": null,
   "metadata": {},
   "outputs": [],
   "source": []
  },
  {
   "cell_type": "code",
   "execution_count": 33,
   "metadata": {},
   "outputs": [
    {
     "name": "stdout",
     "output_type": "stream",
     "text": [
      "-4.99999\n"
     ]
    }
   ],
   "source": []
  }
 ],
 "metadata": {
  "kernelspec": {
   "display_name": "Python 3",
   "language": "python",
   "name": "python3"
  },
  "language_info": {
   "codemirror_mode": {
    "name": "ipython",
    "version": 3
   },
   "file_extension": ".py",
   "mimetype": "text/x-python",
   "name": "python",
   "nbconvert_exporter": "python",
   "pygments_lexer": "ipython3",
   "version": "3.6.2"
  }
 },
 "nbformat": 4,
 "nbformat_minor": 2
}
