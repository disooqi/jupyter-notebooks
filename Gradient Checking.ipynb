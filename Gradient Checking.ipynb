{
 "cells": [
  {
   "cell_type": "markdown",
   "metadata": {},
   "source": [
    "## Gradient checking\n",
    "- <span class=\"text-danger\">Gradient check</span> does not work with drop-out.\n",
    "\n",
    "### METHOD 1 old course\n",
    "\n",
    "```python\n",
    "def gradient_checking(nn_params):\n",
    "    epsilon = 1e-4\n",
    "    grad_vect = zeros_like(nn_params)\n",
    "    for i in arange(nn_params.size):\n",
    "        e_vector = zeros_like(nn_params)\n",
    "        \n",
    "        e_vector[i] = epsilon\n",
    "        \n",
    "        plus = nnCostFunction(nn_params+e_vector,input_layer_size, hidden_layer_size, num_labels, features, y, 0)\n",
    "        minus = nnCostFunction(nn_params-e_vector,input_layer_size, hidden_layer_size, num_labels, features, y, 0)\n",
    "        grad_estimation = (plus - minus)/(2*epsilon)\n",
    "        grad_vect[i] = grad_estimation\n",
    "        \n",
    "        if i%1000 == 0:\n",
    "            print(i)\n",
    "    else:\n",
    "        return grad_vect\n",
    "  \n",
    "G = gradient_checking(initial_weights)\n",
    "\n",
    "for diff_value in [1e-10,1e-9,1e-8,1e-7,1e-6,1e-5,1e-4,1e-3,1e-2,1e-1,1]:\n",
    "    if np.all(np.abs(D-G)<diff_value):\n",
    "        print ('Andrew Ng says that you should see a relative difference that is less than 1e-9, but you got: ',) \n",
    "        print (diff_value)\n",
    "        break\n",
    "    else:\n",
    "        \"something wrong\"\n",
    "```"
   ]
  },
  {
   "cell_type": "code",
   "execution_count": null,
   "metadata": {
    "collapsed": true
   },
   "outputs": [],
   "source": []
  }
 ],
 "metadata": {
  "kernelspec": {
   "display_name": "Python 3",
   "language": "python",
   "name": "python3"
  },
  "language_info": {
   "codemirror_mode": {
    "name": "ipython",
    "version": 3
   },
   "file_extension": ".py",
   "mimetype": "text/x-python",
   "name": "python",
   "nbconvert_exporter": "python",
   "pygments_lexer": "ipython3",
   "version": "3.6.2"
  }
 },
 "nbformat": 4,
 "nbformat_minor": 2
}
