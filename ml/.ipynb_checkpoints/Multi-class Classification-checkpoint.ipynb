{
 "cells": [
  {
   "cell_type": "markdown",
   "metadata": {},
   "source": [
    "you will implement one-vs-all logistic regression"
   ]
  },
  {
   "cell_type": "code",
   "execution_count": 2,
   "metadata": {
    "collapsed": true
   },
   "outputs": [],
   "source": [
    "%matplotlib inline\n",
    "\n",
    "from numpy import array, arange, cos, exp, pi, zeros, column_stack, ones, newaxis, log, dot, append, zeros_like\n",
    "from numpy.random import permutation, shuffle\n",
    "from scipy.io import loadmat\n",
    "from scipy.optimize import minimize, fmin_bfgs\n",
    "\n",
    "from matplotlib import pyplot as plt\n",
    "from matplotlib.figure import Figure\n",
    "# np.random.permutation has two differences from np.random.shuffle:\n",
    "# if passed an array, it will return a shuffled copy of the array; np.random.shuffle shuffles the array inplace\n",
    "# if passed an integer, it will return a shuffled range i.e. np.random.shuffle(np.arange(n))\n"
   ]
  },
  {
   "cell_type": "code",
   "execution_count": 3,
   "metadata": {
    "collapsed": false
   },
   "outputs": [],
   "source": [
    "# ex3data1.mat that contains 5000 training examples of handwritten digits.\n",
    "# This is a subset of the MNIST handwritten digit dataset (http://yann.lecun.com/exdb/mnist/)\n",
    "handwritten_digits = loadmat('ex3data1.mat')\n",
    "handwritten_digits.keys()"
   ]
  },
  {
   "cell_type": "code",
   "execution_count": 4,
   "metadata": {
    "collapsed": false
   },
   "outputs": [
    {
     "data": {
      "text/plain": [
       "['y', 'X', '__version__', '__header__', '__globals__']"
      ]
     },
     "execution_count": 4,
     "metadata": {},
     "output_type": "execute_result"
    }
   ],
   "source": []
  },
  {
   "cell_type": "code",
   "execution_count": 7,
   "metadata": {
    "collapsed": false
   },
   "outputs": [
    {
     "data": {
      "text/plain": [
       "((5000, 401), (5000, 1))"
      ]
     },
     "execution_count": 7,
     "metadata": {},
     "output_type": "execute_result"
    }
   ],
   "source": [
    "features = handwritten_digits['X']\n",
    "X = column_stack((ones((features.shape[0],1)), features))\n",
    "y = handwritten_digits['y']\n",
    "X.shape, y.shape"
   ]
  },
  {
   "cell_type": "code",
   "execution_count": 6,
   "metadata": {
    "collapsed": false
   },
   "outputs": [
    {
     "data": {
      "text/plain": [
       "(500, 401)"
      ]
     },
     "execution_count": 6,
     "metadata": {},
     "output_type": "execute_result"
    }
   ],
   "source": [
    "y[y==10] = 0\n",
    "y = y.ravel()\n",
    "X[y==0].shape"
   ]
  },
  {
   "cell_type": "code",
   "execution_count": null,
   "metadata": {
    "collapsed": false
   },
   "outputs": [],
   "source": []
  },
  {
   "cell_type": "code",
   "execution_count": null,
   "metadata": {
    "collapsed": false
   },
   "outputs": [],
   "source": [
    "input_layer_size  = 400  # 20x20 Input Images of Digits\n",
    "num_labels = 10          # 10 labels, from 0 to 9 "
   ]
  },
  {
   "cell_type": "code",
   "execution_count": null,
   "metadata": {
    "collapsed": true
   },
   "outputs": [],
   "source": [
    "m, n = features.shape"
   ]
  },
  {
   "cell_type": "code",
   "execution_count": null,
   "metadata": {
    "collapsed": false
   },
   "outputs": [],
   "source": [
    "# Randomly select 100 data points to display\n",
    "#rand_indices = randperm(m);\n",
    "sel = permutation(X)[:100,:]\n",
    "sel.shape"
   ]
  },
  {
   "cell_type": "code",
   "execution_count": null,
   "metadata": {
    "collapsed": false
   },
   "outputs": [],
   "source": []
  },
  {
   "cell_type": "code",
   "execution_count": null,
   "metadata": {
    "collapsed": false
   },
   "outputs": [],
   "source": [
    "fig = plt.figure(figsize=(15,15))\n",
    "for i in range(20):\n",
    "    sp = fig.add_subplot(10,10,i+1)\n",
    "    #sp.set_title(dataset[i][1])\n",
    "    plt.axis('off')\n",
    "    image = sel[i][1:].reshape(20,20)\n",
    "    plt.imshow(image,interpolation='none',cmap='Greys')\n",
    "    \n",
    "plt.show()"
   ]
  },
  {
   "cell_type": "code",
   "execution_count": null,
   "metadata": {
    "collapsed": false
   },
   "outputs": [],
   "source": [
    "def sigmoid(z): \n",
    "    return 1/(1+exp(-z))\n",
    "\n",
    "def lrCostFunction(theta, X, y, rp_lambda):\n",
    "    m, n = X.shape\n",
    "    h = sigmoid(X.dot(theta[:, newaxis]))\n",
    "    \n",
    "    # J = (1/m)   *   sum(-y .* log(A)- (1-y) .* log(1-A)  )  +   (lambda/(2*m)) * sum(theta(2:end) .^ 2);\n",
    "    J = sum(-y[:, newaxis] * log(h) - \n",
    "                  (1-y[:, newaxis])*log(1-h))/m + (rp_lambda/(2*m)) * theta[1:].T.dot(theta[1:])\n",
    "    return J\n",
    "\n",
    "def gradientReg(theta, X, y, rp_lambda):\n",
    "    m, n = X.shape                \n",
    "    # grr =   (1/m) * (  (sigmoid(X * theta) - y)' *  X );\n",
    "    # grad =  grr' +   ((lambda/m) * [0; theta(2:end)]);\n",
    "    h = sigmoid(dot(X, theta[:,newaxis]))\n",
    "    theta_temp = theta.copy()\n",
    "    theta_temp[0]=0\n",
    "    p1 = dot(X.T,h-y[:, newaxis])/m\n",
    "    regularization_term = (rp_lambda/m) * theta_temp[:,newaxis]\n",
    "    grad = p1 + regularization_term\n",
    "    return grad.flatten()"
   ]
  },
  {
   "cell_type": "code",
   "execution_count": 1,
   "metadata": {
    "collapsed": true
   },
   "outputs": [],
   "source": [
    "def oneVsAll(X, y, num_classes, rp_lambda):\n",
    "    m, n = X.shape\n",
    "    \n",
    "    #all_theta = zeros((num_classes, n))\n",
    "    initial_theta = zeros((n))\n",
    "    for label in arange(num_classes):\n",
    "        y_tmp = zeros_like(y)\n",
    "        y_tmp[y==label] = 1\n",
    "        res = minimize(fun=lrCostFunction, x0 =initial_theta, args=(X,y_tmp, rp_lambda), method='BFGS', jac=gradientReg)\n",
    "        if label == 0:\n",
    "            all_theta = res.x[:, newaxis].copy()\n",
    "        else:\n",
    "            all_theta = append(all_theta, res.x[:, newaxis], axis=1)\n",
    "        print 'Digit \"',label, '\" Done'\n",
    "    else:\n",
    "        return all_theta\n",
    "    "
   ]
  },
  {
   "cell_type": "code",
   "execution_count": null,
   "metadata": {
    "collapsed": false
   },
   "outputs": [],
   "source": [
    "__lambda__ = 0.01\n",
    "num_labels = 10\n",
    "thetas = oneVsAll(X, y, num_labels, __lambda__);\n",
    "initial_theta = zeros((n,1))\n",
    "thetas.shape"
   ]
  },
  {
   "cell_type": "code",
   "execution_count": null,
   "metadata": {
    "collapsed": false
   },
   "outputs": [],
   "source": [
    "def predictOneVsAll(all_theta, X):\n",
    "    pred = X.dot(all_theta)\n",
    "    return  pred.argmax(axis=1)\n",
    "\n",
    "prediction = predictOneVsAll(thetas, X)\n",
    "prediction"
   ]
  },
  {
   "cell_type": "code",
   "execution_count": null,
   "metadata": {
    "collapsed": false
   },
   "outputs": [],
   "source": [
    "i = 3999\n",
    "y[i], prediction[i]"
   ]
  },
  {
   "cell_type": "code",
   "execution_count": null,
   "metadata": {
    "collapsed": false
   },
   "outputs": [],
   "source": [
    "B = zeros_like(y)\n",
    "\n",
    "B[prediction==y]=1\n",
    "Acc = 100* B.sum()/B.size\n",
    "Acc"
   ]
  },
  {
   "cell_type": "markdown",
   "metadata": {},
   "source": [
    "Scikit-learn Library\n",
    "=="
   ]
  },
  {
   "cell_type": "code",
   "execution_count": 8,
   "metadata": {
    "collapsed": true
   },
   "outputs": [],
   "source": [
    "from sklearn import linear_model, datasets"
   ]
  },
  {
   "cell_type": "code",
   "execution_count": 9,
   "metadata": {
    "collapsed": true
   },
   "outputs": [],
   "source": [
    "logreg = linear_model.LogisticRegression(C=1e5)"
   ]
  },
  {
   "cell_type": "code",
   "execution_count": 15,
   "metadata": {
    "collapsed": false,
    "scrolled": true
   },
   "outputs": [
    {
     "data": {
      "text/plain": [
       "0.98999999999999999"
      ]
     },
     "execution_count": 15,
     "metadata": {},
     "output_type": "execute_result"
    }
   ],
   "source": [
    "y = y.ravel()\n",
    "logreg.fit(features, y).score(features, y)"
   ]
  },
  {
   "cell_type": "code",
   "execution_count": 16,
   "metadata": {
    "collapsed": false
   },
   "outputs": [
    {
     "data": {
      "text/plain": [
       "99.0"
      ]
     },
     "execution_count": 16,
     "metadata": {},
     "output_type": "execute_result"
    }
   ],
   "source": [
    "p = logreg.predict(features)\n",
    "B = zeros_like(y)\n",
    "B[p==y]=1\n",
    "Acc = 100* B.sum()/B.size\n",
    "Acc"
   ]
  },
  {
   "cell_type": "markdown",
   "metadata": {},
   "source": []
  }
 ],
 "metadata": {
  "kernelspec": {
   "display_name": "Python [Root]",
   "language": "python",
   "name": "Python [Root]"
  },
  "language_info": {
   "codemirror_mode": {
    "name": "ipython",
    "version": 2
   },
   "file_extension": ".py",
   "mimetype": "text/x-python",
   "name": "python",
   "nbconvert_exporter": "python",
   "pygments_lexer": "ipython2",
   "version": "2.7.12"
  }
 },
 "nbformat": 4,
 "nbformat_minor": 0
}
