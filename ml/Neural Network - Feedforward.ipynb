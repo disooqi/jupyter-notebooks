{
 "cells": [
  {
   "cell_type": "code",
   "execution_count": 1,
   "metadata": {
    "collapsed": true
   },
   "outputs": [],
   "source": [
    "%matplotlib inline\n",
    "\n",
    "import numpy as np\n",
    "from numpy import array, arange, cos, exp, pi, zeros, column_stack, ones, newaxis, log, dot, append, zeros_like\n",
    "from numpy.random import permutation, shuffle\n",
    "from scipy.io import loadmat\n",
    "from scipy.optimize import minimize, fmin_bfgs\n",
    "\n",
    "from matplotlib import pyplot as plt\n",
    "from matplotlib.figure import Figure"
   ]
  },
  {
   "cell_type": "code",
   "execution_count": 2,
   "metadata": {
    "collapsed": true
   },
   "outputs": [],
   "source": [
    "# Setup the parameters you will use for this exercise\n",
    "input_layer_size  = 400;  # 20x20 Input Images of Digits\n",
    "hidden_layer_size = 25;   # 25 hidden units\n",
    "num_labels = 10;          # 10 labels, from 1 to 10   "
   ]
  },
  {
   "cell_type": "markdown",
   "metadata": {},
   "source": [
    "### Logistic regression cannot form more complex hypotheses as it is only a linear classifier (You could add more features (such as polynomial features) to logistic regression, but that can be very expensive to train.)\n"
   ]
  },
  {
   "cell_type": "code",
   "execution_count": 3,
   "metadata": {},
   "outputs": [
    {
     "data": {
      "text/plain": [
       "['y', 'X', '__version__', '__header__', '__globals__']"
      ]
     },
     "execution_count": 3,
     "metadata": {},
     "output_type": "execute_result"
    }
   ],
   "source": [
    "handwritten_digits = loadmat('ex3data1.mat')\n",
    "handwritten_digits.keys()"
   ]
  },
  {
   "cell_type": "code",
   "execution_count": 4,
   "metadata": {},
   "outputs": [
    {
     "data": {
      "text/plain": [
       "((5000, 400), (5000, 1))"
      ]
     },
     "execution_count": 4,
     "metadata": {},
     "output_type": "execute_result"
    }
   ],
   "source": [
    "features = handwritten_digits['X']\n",
    "# X = column_stack((ones((features.shape[0],1)), features))\n",
    "m, n = features.shape\n",
    "\n",
    "y = handwritten_digits['y']\n",
    "features.shape, y.shape"
   ]
  },
  {
   "cell_type": "code",
   "execution_count": 5,
   "metadata": {},
   "outputs": [
    {
     "data": {
      "text/plain": [
       "['Theta2', '__version__', '__header__', 'Theta1', '__globals__']"
      ]
     },
     "execution_count": 5,
     "metadata": {},
     "output_type": "execute_result"
    }
   ],
   "source": [
    "# Loading Saved Neural Network Parameters ...\n",
    "weight = loadmat('ex3weights.mat')\n",
    "weight.keys()"
   ]
  },
  {
   "cell_type": "code",
   "execution_count": 6,
   "metadata": {},
   "outputs": [],
   "source": [
    "def sigmoid(z): \n",
    "    return 1/(1+exp(-z))\n",
    "\n",
    "\n",
    "def predict_from_three_layer_NN(Theta1, Theta2, X):\n",
    "    m, _ = X.shape\n",
    "    A_1 = np.c_[ones((m)), X] # (5000, 400)\n",
    "    \n",
    "    Z_2 = Theta1.dot(A_1.T) # (25, 401) * (401, 5000)\n",
    "    A_tmp = sigmoid(Z_2).T # (5000, 25)    \n",
    "    A_2 = np.c_[(ones((m)), A_tmp)] # (5000, 26) \n",
    "    \n",
    "    Z_3 = Theta2.dot(A_2.T) # (10, 26) * (26, 5000) \n",
    "    A_3 = sigmoid(Z_3).T # (5000, 10)\n",
    "    \n",
    "    return A_3\n",
    "\n",
    "pred = predict_from_three_layer_NN(weight['Theta1'], weight['Theta2'], features)"
   ]
  },
  {
   "cell_type": "code",
   "execution_count": 10,
   "metadata": {},
   "outputs": [
    {
     "name": "stdout",
     "output_type": "stream",
     "text": [
      "[9 9 9 9 9 9 9 9 9 9]\n"
     ]
    },
    {
     "data": {
      "text/plain": [
       "(5000, 10)"
      ]
     },
     "execution_count": 10,
     "metadata": {},
     "output_type": "execute_result"
    }
   ],
   "source": [
    "print pred.argmax(axis=1)[:10]\n",
    "pred.shape"
   ]
  },
  {
   "cell_type": "code",
   "execution_count": null,
   "metadata": {},
   "outputs": [],
   "source": []
  }
 ],
 "metadata": {
  "kernelspec": {
   "display_name": "Python 3",
   "language": "python",
   "name": "python3"
  },
  "language_info": {
   "codemirror_mode": {
    "name": "ipython",
    "version": 3
   },
   "file_extension": ".py",
   "mimetype": "text/x-python",
   "name": "python",
   "nbconvert_exporter": "python",
   "pygments_lexer": "ipython3",
   "version": "3.5.4"
  }
 },
 "nbformat": 4,
 "nbformat_minor": 1
}
